{
 "cells": [
  {
   "cell_type": "code",
   "execution_count": 1,
   "metadata": {
    "scrolled": true
   },
   "outputs": [],
   "source": [
    "import mxnet as mx\n",
    "import sagemaker\n",
    "from sagemaker.mxnet import MXNet as MXNetEstimator\n",
    "\n",
    "sagemaker_session = sagemaker.Session()\n",
    "role = sagemaker.get_execution_role()"
   ]
  },
  {
   "cell_type": "code",
   "execution_count": 2,
   "metadata": {},
   "outputs": [],
   "source": [
    "mx.test_utils.get_cifar10() # Downloads Cifar-10 dataset to ./data/cifar"
   ]
  },
  {
   "cell_type": "code",
   "execution_count": 3,
   "metadata": {},
   "outputs": [
    {
     "name": "stderr",
     "output_type": "stream",
     "text": [
      "INFO:sagemaker:Created S3 bucket: sagemaker-us-east-1-968277166688\n"
     ]
    }
   ],
   "source": [
    "inputs = sagemaker_session.upload_data(path='data/cifar', key_prefix='data/cifar10')"
   ]
  },
  {
   "cell_type": "code",
   "execution_count": 4,
   "metadata": {},
   "outputs": [
    {
     "name": "stderr",
     "output_type": "stream",
     "text": [
      "INFO:sagemaker:Created S3 bucket: sagemaker-us-east-1-968277166688\n",
      "INFO:sagemaker:Creating training-job with name: sagemaker-mxnet-2018-06-29-00-39-51-275\n"
     ]
    },
    {
     "name": "stdout",
     "output_type": "stream",
     "text": [
      ".......................................\n",
      "\u001b[31m2018-06-29 00:46:12,095 INFO - root - running container entrypoint\u001b[0m\n",
      "\u001b[31m2018-06-29 00:46:12,095 INFO - root - starting train task\u001b[0m\n",
      "\u001b[31m2018-06-29 00:46:12,115 INFO - container_support.training - Training starting\u001b[0m\n",
      "\u001b[31m2018-06-29 00:46:16,016 INFO - mxnet_container.train - MXNetTrainingEnvironment: {'enable_cloudwatch_metrics': False, 'available_gpus': 1, 'channels': {u'training': {u'TrainingInputMode': u'File', u'RecordWrapperType': u'None', u'S3DistributionType': u'FullyReplicated'}}, '_ps_verbose': 0, 'resource_config': {u'current_host': u'algo-1', u'network_interface_name': u'ethwe', u'hosts': [u'algo-1']}, 'user_script_name': u'train.py', 'input_config_dir': '/opt/ml/input/config', 'channel_dirs': {u'training': u'/opt/ml/input/data/training'}, 'code_dir': '/opt/ml/code', 'output_data_dir': '/opt/ml/output/data/', 'output_dir': '/opt/ml/output', 'model_dir': '/opt/ml/model', 'hyperparameters': {u'sagemaker_program': u'train.py', u'batch_size': 1024, u'epochs': 30, u'sagemaker_submit_directory': u's3://sagemaker-us-east-1-968277166688/sagemaker-mxnet-2018-06-29-00-39-51-275/source/sourcedir.tar.gz', u'sagemaker_region': u'us-east-1', u'sagemaker_enable_cloudwatch_metrics': False, u'sagemaker_job_name': u'sagemaker-mxnet-2018-06-29-00-39-51-275', u'sagemaker_container_log_level': 20}, 'hosts': [u'algo-1'], 'job_name': 'sagemaker-mxnet-2018-06-29-00-39-51-275', '_ps_port': 8000, 'user_script_archive': u's3://sagemaker-us-east-1-968277166688/sagemaker-mxnet-2018-06-29-00-39-51-275/source/sourcedir.tar.gz', '_scheduler_host': u'algo-1', 'sagemaker_region': u'us-east-1', '_scheduler_ip': '10.32.0.4', 'input_dir': '/opt/ml/input', 'user_requirements_file': None, 'current_host': u'algo-1', 'container_log_level': 20, 'available_cpus': 8, 'base_dir': '/opt/ml'}\u001b[0m\n",
      "\u001b[31mDownloading s3://sagemaker-us-east-1-968277166688/sagemaker-mxnet-2018-06-29-00-39-51-275/source/sourcedir.tar.gz to /tmp/script.tar.gz\u001b[0m\n",
      "\u001b[31m2018-06-29 00:46:16,097 INFO - botocore.vendored.requests.packages.urllib3.connectionpool - Starting new HTTP connection (1): 169.254.170.2\u001b[0m\n",
      "\u001b[31m2018-06-29 00:46:16,208 INFO - botocore.vendored.requests.packages.urllib3.connectionpool - Starting new HTTPS connection (1): sagemaker-us-east-1-968277166688.s3.amazonaws.com\u001b[0m\n",
      "\u001b[31m2018-06-29 00:46:16,348 INFO - mxnet_container.train - Starting distributed training task\u001b[0m\n",
      "\u001b[31m[00:46:16] src/io/iter_image_recordio_2.cc:170: ImageRecordIOParser2: /opt/ml/input/data/training/train.rec, use 3 threads for decoding..\u001b[0m\n",
      "\u001b[31m[00:46:18] src/io/iter_image_recordio_2.cc:170: ImageRecordIOParser2: /opt/ml/input/data/training/test.rec, use 3 threads for decoding..\u001b[0m\n",
      "\u001b[31m[00:46:24] src/operator/nn/./cudnn/./cudnn_algoreg-inl.h:107: Running performance tests to find the best convolution algorithm, this can take a while... (setting env variable MXNET_CUDNN_AUTOTUNE_DEFAULT to 0 to disable)\u001b[0m\n",
      "\u001b[31m2018-06-29 00:46:28,633 INFO - root - [Epoch 0] training: accuracy=0.409638\u001b[0m\n",
      "\u001b[31m2018-06-29 00:46:28,633 INFO - root - [Epoch 0] time cost: 9.470590\u001b[0m\n",
      "\u001b[31m2018-06-29 00:46:29,000 INFO - root - [Epoch 0] validation: accuracy=0.473047\u001b[0m\n",
      "\u001b[31m2018-06-29 00:46:32,231 INFO - root - [Epoch 1] training: accuracy=0.552575\u001b[0m\n",
      "\u001b[31m2018-06-29 00:46:32,232 INFO - root - [Epoch 1] time cost: 3.231841\u001b[0m\n",
      "\u001b[31m2018-06-29 00:46:32,593 INFO - root - [Epoch 1] validation: accuracy=0.559863\u001b[0m\n",
      "\u001b[31m2018-06-29 00:46:35,816 INFO - root - [Epoch 2] training: accuracy=0.633968\u001b[0m\n",
      "\u001b[31m2018-06-29 00:46:35,816 INFO - root - [Epoch 2] time cost: 3.223587\u001b[0m\n",
      "\u001b[31m2018-06-29 00:46:36,173 INFO - root - [Epoch 2] validation: accuracy=0.601855\u001b[0m\n",
      "\u001b[31m2018-06-29 00:46:39,406 INFO - root - [Epoch 3] training: accuracy=0.686344\u001b[0m\n",
      "\u001b[31m2018-06-29 00:46:39,407 INFO - root - [Epoch 3] time cost: 3.233227\u001b[0m\n",
      "\u001b[31m2018-06-29 00:46:39,733 INFO - root - [Epoch 3] validation: accuracy=0.614475\u001b[0m\n",
      "\u001b[31m2018-06-29 00:46:42,955 INFO - root - [Epoch 4] training: accuracy=0.719228\u001b[0m\n",
      "\u001b[31m2018-06-29 00:46:42,955 INFO - root - [Epoch 4] time cost: 3.222599\u001b[0m\n",
      "\u001b[31m2018-06-29 00:46:43,315 INFO - root - [Epoch 4] validation: accuracy=0.666406\u001b[0m\n",
      "\u001b[31m2018-06-29 00:46:46,463 INFO - root - [Epoch 5] training: accuracy=0.748393\u001b[0m\n",
      "\u001b[31m2018-06-29 00:46:46,463 INFO - root - [Epoch 5] time cost: 3.147909\u001b[0m\n",
      "\u001b[31m2018-06-29 00:46:46,818 INFO - root - [Epoch 5] validation: accuracy=0.670996\u001b[0m\n",
      "\u001b[31m2018-06-29 00:46:50,039 INFO - root - [Epoch 6] training: accuracy=0.776527\u001b[0m\n",
      "\u001b[31m2018-06-29 00:46:50,040 INFO - root - [Epoch 6] time cost: 3.221928\u001b[0m\n",
      "\u001b[31m2018-06-29 00:46:50,398 INFO - root - [Epoch 6] validation: accuracy=0.685742\u001b[0m\n",
      "\u001b[31m2018-06-29 00:46:53,623 INFO - root - [Epoch 7] training: accuracy=0.798848\u001b[0m\n",
      "\u001b[31m2018-06-29 00:46:53,624 INFO - root - [Epoch 7] time cost: 3.225588\u001b[0m\n",
      "\u001b[31m2018-06-29 00:46:53,952 INFO - root - [Epoch 7] validation: accuracy=0.703668\u001b[0m\n",
      "\u001b[31m2018-06-29 00:46:57,198 INFO - root - [Epoch 8] training: accuracy=0.815868\u001b[0m\n",
      "\u001b[31m2018-06-29 00:46:57,198 INFO - root - [Epoch 8] time cost: 3.245870\u001b[0m\n",
      "\u001b[31m2018-06-29 00:46:57,561 INFO - root - [Epoch 8] validation: accuracy=0.701074\u001b[0m\n",
      "\u001b[31m2018-06-29 00:47:00,798 INFO - root - [Epoch 9] training: accuracy=0.833327\u001b[0m\n",
      "\u001b[31m2018-06-29 00:47:00,798 INFO - root - [Epoch 9] time cost: 3.236599\u001b[0m\n",
      "\u001b[31m2018-06-29 00:47:01,154 INFO - root - [Epoch 9] validation: accuracy=0.710449\u001b[0m\n",
      "\u001b[31m2018-06-29 00:47:04,389 INFO - root - [Epoch 10] training: accuracy=0.849071\u001b[0m\n",
      "\u001b[31m2018-06-29 00:47:04,389 INFO - root - [Epoch 10] time cost: 3.235227\u001b[0m\n",
      "\u001b[31m2018-06-29 00:47:04,744 INFO - root - [Epoch 10] validation: accuracy=0.713379\u001b[0m\n",
      "\u001b[31m2018-06-29 00:47:07,919 INFO - root - [Epoch 11] training: accuracy=0.861226\u001b[0m\n",
      "\u001b[31m2018-06-29 00:47:07,919 INFO - root - [Epoch 11] time cost: 3.174998\u001b[0m\n",
      "\u001b[31m2018-06-29 00:47:08,247 INFO - root - [Epoch 11] validation: accuracy=0.683702\u001b[0m\n",
      "\u001b[31m2018-06-29 00:47:11,473 INFO - root - [Epoch 12] training: accuracy=0.874283\u001b[0m\n",
      "\u001b[31m2018-06-29 00:47:11,473 INFO - root - [Epoch 12] time cost: 3.226561\u001b[0m\n",
      "\u001b[31m2018-06-29 00:47:11,831 INFO - root - [Epoch 12] validation: accuracy=0.703320\u001b[0m\n",
      "\u001b[31m2018-06-29 00:47:15,065 INFO - root - [Epoch 13] training: accuracy=0.880361\u001b[0m\n",
      "\u001b[31m2018-06-29 00:47:15,065 INFO - root - [Epoch 13] time cost: 3.234388\u001b[0m\n",
      "\u001b[31m2018-06-29 00:47:15,421 INFO - root - [Epoch 13] validation: accuracy=0.703906\u001b[0m\n",
      "\u001b[31m2018-06-29 00:47:18,655 INFO - root - [Epoch 14] training: accuracy=0.892439\u001b[0m\n",
      "\u001b[31m2018-06-29 00:47:18,655 INFO - root - [Epoch 14] time cost: 3.233895\u001b[0m\n",
      "\u001b[31m2018-06-29 00:47:19,011 INFO - root - [Epoch 14] validation: accuracy=0.720313\u001b[0m\n",
      "\u001b[31m2018-06-29 00:47:22,236 INFO - root - [Epoch 15] training: accuracy=0.899892\u001b[0m\n",
      "\u001b[31m2018-06-29 00:47:22,236 INFO - root - [Epoch 15] time cost: 3.225476\u001b[0m\n",
      "\u001b[31m2018-06-29 00:47:22,591 INFO - root - [Epoch 15] validation: accuracy=0.713574\u001b[0m\n",
      "\u001b[31m2018-06-29 00:47:25,825 INFO - root - [Epoch 16] training: accuracy=0.909319\u001b[0m\n",
      "\u001b[31m2018-06-29 00:47:25,825 INFO - root - [Epoch 16] time cost: 3.233311\u001b[0m\n",
      "\u001b[31m2018-06-29 00:47:26,148 INFO - root - [Epoch 16] validation: accuracy=0.720595\u001b[0m\n",
      "\u001b[31m2018-06-29 00:47:29,316 INFO - root - [Epoch 17] training: accuracy=0.919393\u001b[0m\n",
      "\u001b[31m2018-06-29 00:47:29,316 INFO - root - [Epoch 17] time cost: 3.167770\u001b[0m\n",
      "\u001b[31m2018-06-29 00:47:29,673 INFO - root - [Epoch 17] validation: accuracy=0.720605\u001b[0m\n",
      "\u001b[31m2018-06-29 00:47:32,908 INFO - root - [Epoch 18] training: accuracy=0.926618\u001b[0m\n",
      "\u001b[31m2018-06-29 00:47:32,908 INFO - root - [Epoch 18] time cost: 3.234694\u001b[0m\n",
      "\u001b[31m2018-06-29 00:47:33,267 INFO - root - [Epoch 18] validation: accuracy=0.730566\u001b[0m\n",
      "\u001b[31m2018-06-29 00:47:36,492 INFO - root - [Epoch 19] training: accuracy=0.930525\u001b[0m\n",
      "\u001b[31m2018-06-29 00:47:36,492 INFO - root - [Epoch 19] time cost: 3.224398\u001b[0m\n",
      "\u001b[31m2018-06-29 00:47:36,848 INFO - root - [Epoch 19] validation: accuracy=0.741895\u001b[0m\n",
      "\u001b[31m2018-06-29 00:47:40,081 INFO - root - [Epoch 20] training: accuracy=0.934690\u001b[0m\n",
      "\u001b[31m2018-06-29 00:47:40,082 INFO - root - [Epoch 20] time cost: 3.233237\u001b[0m\n",
      "\u001b[31m2018-06-29 00:47:40,413 INFO - root - [Epoch 20] validation: accuracy=0.723633\u001b[0m\n",
      "\u001b[31m2018-06-29 00:47:43,643 INFO - root - [Epoch 21] training: accuracy=0.943379\u001b[0m\n",
      "\u001b[31m2018-06-29 00:47:43,644 INFO - root - [Epoch 21] time cost: 3.230849\u001b[0m\n",
      "\u001b[31m2018-06-29 00:47:43,998 INFO - root - [Epoch 21] validation: accuracy=0.717871\u001b[0m\n",
      "\u001b[31m2018-06-29 00:47:47,228 INFO - root - [Epoch 22] training: accuracy=0.945253\u001b[0m\n",
      "\u001b[31m2018-06-29 00:47:47,228 INFO - root - [Epoch 22] time cost: 3.229408\u001b[0m\n",
      "\u001b[31m2018-06-29 00:47:47,582 INFO - root - [Epoch 22] validation: accuracy=0.733496\u001b[0m\n",
      "\u001b[31m2018-06-29 00:47:50,749 INFO - root - [Epoch 23] training: accuracy=0.945251\u001b[0m\n",
      "\u001b[31m2018-06-29 00:47:50,749 INFO - root - [Epoch 23] time cost: 3.166458\u001b[0m\n",
      "\u001b[31m2018-06-29 00:47:51,102 INFO - root - [Epoch 23] validation: accuracy=0.712891\u001b[0m\n"
     ]
    },
    {
     "name": "stdout",
     "output_type": "stream",
     "text": [
      "\u001b[31m2018-06-29 00:47:54,335 INFO - root - [Epoch 24] training: accuracy=0.951471\u001b[0m\n",
      "\u001b[31m2018-06-29 00:47:54,335 INFO - root - [Epoch 24] time cost: 3.232138\u001b[0m\n",
      "\u001b[31m2018-06-29 00:47:54,662 INFO - root - [Epoch 24] validation: accuracy=0.715169\u001b[0m\n",
      "\u001b[31m2018-06-29 00:47:57,880 INFO - root - [Epoch 25] training: accuracy=0.958426\u001b[0m\n",
      "\u001b[31m2018-06-29 00:47:57,880 INFO - root - [Epoch 25] time cost: 3.218427\u001b[0m\n",
      "\u001b[31m2018-06-29 00:47:58,238 INFO - root - [Epoch 25] validation: accuracy=0.728613\u001b[0m\n",
      "\u001b[31m2018-06-29 00:48:01,465 INFO - root - [Epoch 26] training: accuracy=0.964565\u001b[0m\n",
      "\u001b[31m2018-06-29 00:48:01,465 INFO - root - [Epoch 26] time cost: 3.227052\u001b[0m\n",
      "\u001b[31m2018-06-29 00:48:01,826 INFO - root - [Epoch 26] validation: accuracy=0.742578\u001b[0m\n",
      "\u001b[31m2018-06-29 00:48:05,056 INFO - root - [Epoch 27] training: accuracy=0.964505\u001b[0m\n",
      "\u001b[31m2018-06-29 00:48:05,056 INFO - root - [Epoch 27] time cost: 3.230222\u001b[0m\n",
      "\u001b[31m2018-06-29 00:48:05,414 INFO - root - [Epoch 27] validation: accuracy=0.733887\u001b[0m\n",
      "\u001b[31m2018-06-29 00:48:08,652 INFO - root - [Epoch 28] training: accuracy=0.967654\u001b[0m\n",
      "\u001b[31m2018-06-29 00:48:08,652 INFO - root - [Epoch 28] time cost: 3.238277\u001b[0m\n",
      "\u001b[31m2018-06-29 00:48:08,979 INFO - root - [Epoch 28] validation: accuracy=0.741862\u001b[0m\n",
      "\u001b[31m2018-06-29 00:48:12,157 INFO - root - [Epoch 29] training: accuracy=0.972880\u001b[0m\n",
      "\u001b[31m2018-06-29 00:48:12,157 INFO - root - [Epoch 29] time cost: 3.177759\u001b[0m\n",
      "\u001b[31m2018-06-29 00:48:12,517 INFO - root - [Epoch 29] validation: accuracy=0.741895\u001b[0m\n",
      "===== Job Complete =====\n",
      "Billable seconds: 406\n"
     ]
    }
   ],
   "source": [
    "estimator = MXNetEstimator(entry_point='train.py', \n",
    "            role=sagemaker.get_execution_role(), \n",
    "            train_instance_count=1, \n",
    "            train_instance_type='ml.p3.2xlarge',\n",
    "            hyperparameters={'batch_size': 1024, \n",
    "                             'epochs': 30})\n",
    "estimator.fit(inputs)"
   ]
  },
  {
   "cell_type": "code",
   "execution_count": 5,
   "metadata": {},
   "outputs": [
    {
     "name": "stderr",
     "output_type": "stream",
     "text": [
      "INFO:sagemaker:Creating model with name: sagemaker-mxnet-2018-06-29-00-39-51-275\n",
      "INFO:sagemaker:Creating endpoint with name sagemaker-mxnet-2018-06-29-00-39-51-275\n"
     ]
    },
    {
     "name": "stdout",
     "output_type": "stream",
     "text": [
      "---------------------------------------------------!"
     ]
    }
   ],
   "source": [
    "predictor = estimator.deploy(initial_instance_count=1, instance_type='ml.m4.xlarge')"
   ]
  },
  {
   "cell_type": "markdown",
   "metadata": {},
   "source": [
    "### Evaluate\n",
    "\n",
    "We'll use these CIFAR-10 sample images to test the service:\n",
    "\n",
    "<img style=\"display: inline; height: 32px; margin: 0.25em\" src=\"images/airplane1.png\" />\n",
    "<img style=\"display: inline; height: 32px; margin: 0.25em\" src=\"images/automobile1.png\" />\n",
    "<img style=\"display: inline; height: 32px; margin: 0.25em\" src=\"images/bird1.png\" />\n",
    "<img style=\"display: inline; height: 32px; margin: 0.25em\" src=\"images/cat1.png\" />\n",
    "<img style=\"display: inline; height: 32px; margin: 0.25em\" src=\"images/deer1.png\" />\n",
    "<img style=\"display: inline; height: 32px; margin: 0.25em\" src=\"images/dog1.png\" />\n",
    "<img style=\"display: inline; height: 32px; margin: 0.25em\" src=\"images/frog1.png\" />\n",
    "<img style=\"display: inline; height: 32px; margin: 0.25em\" src=\"images/horse1.png\" />\n",
    "<img style=\"display: inline; height: 32px; margin: 0.25em\" src=\"images/ship1.png\" />\n",
    "<img style=\"display: inline; height: 32px; margin: 0.25em\" src=\"images/truck1.png\" />\n",
    "\n"
   ]
  },
  {
   "cell_type": "code",
   "execution_count": 11,
   "metadata": {},
   "outputs": [],
   "source": [
    "# load the CIFAR-10 samples, and convert them into format we can use with the prediction endpoint\n",
    "from readimage_utils import read_images\n",
    "\n",
    "filenames = ['images/airplane1.png',\n",
    "             'images/automobile1.png',\n",
    "             'images/bird1.png',\n",
    "             'images/cat1.png',\n",
    "             'images/deer1.png',\n",
    "             'images/dog1.png',\n",
    "             'images/frog1.png',\n",
    "             'images/horse1.png',\n",
    "             'images/ship1.png',\n",
    "             'images/truck1.png']\n",
    "\n",
    "image_data = read_images(filenames)"
   ]
  },
  {
   "cell_type": "code",
   "execution_count": 12,
   "metadata": {
    "scrolled": true
   },
   "outputs": [
    {
     "name": "stdout",
     "output_type": "stream",
     "text": [
      "image 0: class: 0\n",
      "image 1: class: 1\n",
      "image 2: class: 2\n",
      "image 3: class: 4\n",
      "image 4: class: 4\n",
      "image 5: class: 5\n",
      "image 6: class: 6\n",
      "image 7: class: 7\n",
      "image 8: class: 8\n",
      "image 9: class: 9\n"
     ]
    }
   ],
   "source": [
    "for i, img in enumerate(image_data):\n",
    "    response = predictor.predict(img)\n",
    "    print('image {}: class: {}'.format(i, int(response)))"
   ]
  },
  {
   "cell_type": "code",
   "execution_count": null,
   "metadata": {},
   "outputs": [],
   "source": [
    "estimator.delete_endpoint()"
   ]
  },
  {
   "cell_type": "code",
   "execution_count": null,
   "metadata": {},
   "outputs": [],
   "source": []
  }
 ],
 "metadata": {
  "kernelspec": {
   "display_name": "conda_mxnet_p27",
   "language": "python",
   "name": "conda_mxnet_p27"
  },
  "language_info": {
   "codemirror_mode": {
    "name": "ipython",
    "version": 2
   },
   "file_extension": ".py",
   "mimetype": "text/x-python",
   "name": "python",
   "nbconvert_exporter": "python",
   "pygments_lexer": "ipython2",
   "version": "2.7.14"
  },
  "notice": "Copyright 2017 Amazon.com, Inc. or its affiliates. All Rights Reserved.  Licensed under the Apache License, Version 2.0 (the \"License\"). You may not use this file except in compliance with the License. A copy of the License is located at http://aws.amazon.com/apache2.0/ or in the \"license\" file accompanying this file. This file is distributed on an \"AS IS\" BASIS, WITHOUT WARRANTIES OR CONDITIONS OF ANY KIND, either express or implied. See the License for the specific language governing permissions and limitations under the License."
 },
 "nbformat": 4,
 "nbformat_minor": 2
}
